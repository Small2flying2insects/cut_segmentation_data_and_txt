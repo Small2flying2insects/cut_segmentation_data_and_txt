{
 "cells": [
  {
   "cell_type": "code",
   "execution_count": 2,
   "id": "258c2c31",
   "metadata": {},
   "outputs": [],
   "source": [
    "def calculate_y31(point1, point2, x3_1):\n",
    "    \"\"\"\n",
    "    根据给定的两个点和一个x值，计算对应的y3值并验证范围\n",
    "    \n",
    "    参数：\n",
    "        point1: 第一个点的坐标，格式为 [x1, y1]\n",
    "        point2: 第二个点的坐标，格式为 [x2, y2]\n",
    "        x3_1: 需要求对应y3的x坐标\n",
    "    \n",
    "    返回：\n",
    "        符合条件的y3值（float），若不符合条件则返回None\n",
    "    \"\"\"\n",
    "    x1, y1 = point1\n",
    "    x2, y2 = point2\n",
    "    \n",
    "    # 处理x1与x2重合的特殊情况（避免除零错误）\n",
    "    if x1 == x2:\n",
    "        # 垂直直线上只有x3等于x1时，y3取y1（但需额外判断是否在y1和y2之间）\n",
    "        if x3_1 != x1:\n",
    "            return None\n",
    "        else:\n",
    "            # 垂直直线上y3理论上可任意，\n",
    "            return y2  # 垂直直线上取y2作为参考值\n",
    "\n",
    "    \n",
    "    # 计算直线斜率和y3值\n",
    "    slope = (y2 - y1) / (x2 - x1)\n",
    "    y3 = y1 + slope * (x3_1 - x1)\n",
    "    \n",
    "    # 判断y3是否在y1和y2之间（包含端点）\n",
    "    if (y1 <= y3 <= y2) or (y2 <= y3 <= y1):\n",
    "        return y3\n",
    "    else:\n",
    "        return None"
   ]
  },
  {
   "cell_type": "code",
   "execution_count": 3,
   "id": "5726eea7",
   "metadata": {},
   "outputs": [],
   "source": [
    "def polygon_area(abs_coords):\n",
    "    \"\"\"\n",
    "    计算多边形面积（鞋带公式）\n",
    "    abs_coords: 顶点列表，格式为 [(x1,y1), (x2,y2), ..., (xn,yn)]，需闭合或自动补全\n",
    "    \"\"\"\n",
    "    if not abs_coords:\n",
    "        return (0, 0, 0, 0, 0)\n",
    "    xs = [p[0] for p in abs_coords]\n",
    "    ys = [p[1] for p in abs_coords]\n",
    "    min_x, max_x = min(xs), max(xs)\n",
    "    min_y, max_y = min(ys), max(ys)\n",
    "\n",
    "    n = len(abs_coords)\n",
    "    area = 0.0\n",
    "    for i in range(n):\n",
    "        x_i, y_i = abs_coords[i]\n",
    "        x_j, y_j = abs_coords[(i+1) % n]  # 最后一点连接第一点\n",
    "        area += (x_i * y_j) - (x_j * y_i)\n",
    "    return (min_x, min_y, max_x, max_y, abs(area) / 2.0)"
   ]
  },
  {
   "cell_type": "code",
   "execution_count": 4,
   "id": "f6fb05f7",
   "metadata": {},
   "outputs": [],
   "source": [
    "def get_file_name(img_dir, txt_dir):\n",
    "    # 获取img目录中所有文件的绝对路径\n",
    "    img_files = [os.path.join(img_dir, f) for f in os.listdir(img_dir) if os.path.isfile(os.path.join(img_dir, f))]\n",
    "    \n",
    "    # 获取txt目录中所有文件的绝对路径\n",
    "    txt_files = [os.path.join(txt_dir, f) for f in os.listdir(txt_dir) if os.path.isfile(os.path.join(txt_dir, f))]\n",
    "    \n",
    "    return img_files, txt_files"
   ]
  },
  {
   "cell_type": "code",
   "execution_count": 5,
   "id": "7a70240b",
   "metadata": {},
   "outputs": [],
   "source": [
    "def get_tiff_info(img):\n",
    "    \"\"\"获取TIFF的位深、压缩方式等关键信息\"\"\"\n",
    "    # 检测位深（模式映射）\n",
    "    mode_to_bits = {\n",
    "        'L': 8,          # 8位灰度（无符号整数）\n",
    "        'I;16': 16,      # 16位灰度（大端）\n",
    "        'I;16B': 16,     # 16位灰度（小端，常见于Windows）\n",
    "        'I;16S': 16      # 16位灰度（有符号整数，罕见但需兼容）\n",
    "    }\n",
    "    bit_depth = mode_to_bits.get(img.mode, None)\n",
    "    if bit_depth is None:\n",
    "        raise ValueError(f\"不支持的TIFF模式: {img.mode}（仅支持8/16位灰度）\")\n",
    "\n",
    "    # 检测压缩方式（兼容Pillow参数）\n",
    "    compression_code = img.info.get('compression', 1)  # 默认无压缩（代码1）\n",
    "    compression_map = {\n",
    "        1: None,         # 无压缩（TIFF Tag 259=1）\n",
    "        5: 'tiff_lzw',   # LZW压缩（TIFF Tag 259=5）\n",
    "        8: 'tiff_deflate' # Deflate压缩（TIFF Tag 259=8）\n",
    "    }\n",
    "    compression = compression_map.get(compression_code, None)\n",
    "\n",
    "    return {\n",
    "        \"bit_depth\": bit_depth,\n",
    "        \"compression\": compression,\n",
    "        \"mode\": img.mode  # 保留原始模式（如I;16B）\n",
    "    }"
   ]
  },
  {
   "cell_type": "code",
   "execution_count": 30,
   "id": "f65cb83c",
   "metadata": {},
   "outputs": [],
   "source": [
    "def get_ww_wc(img_array):\n",
    "    # 获取图像的窗宽窗位\n",
    "    # 使用96%的像素范围（忽略最高2%和最低2%的异常值）\n",
    "    lower_percentile = np.percentile(img_array, 5)\n",
    "    upper_percentile = np.percentile(img_array, 95)\n",
    "    # 计算窗宽窗位\n",
    "    window_width = int(upper_percentile - lower_percentile)\n",
    "    window_level = int((upper_percentile + lower_percentile) // 2)\n",
    "\n",
    "    print(\"window_width:\", window_width)\n",
    "\n",
    "    return window_width, window_level"
   ]
  },
  {
   "cell_type": "code",
   "execution_count": 7,
   "id": "08b3a66d",
   "metadata": {},
   "outputs": [],
   "source": [
    "def get_abs_coords(txt_path, img_width, img_height):\n",
    "    \"\"\"\n",
    "    解析标注文件并将相对坐标转换为绝对坐标\n",
    "    \n",
    "    参数:\n",
    "    txt_path (str): 标注文件路径\n",
    "    img_width (int): 图像宽度\n",
    "    img_height (int): 图像高度\n",
    "    \n",
    "    返回:\n",
    "    list: 成功时返回包含(classid, 绝对坐标列表)的列表\n",
    "    bool: 失败时返回False\n",
    "    \"\"\"\n",
    "    # print(\"正在解析标注文件...\")\n",
    "    annotations = []\n",
    "    try:\n",
    "        with open(txt_path, \"r\") as f:\n",
    "            for line_idx, line in enumerate(f):\n",
    "                line = line.strip()\n",
    "                if not line:\n",
    "                    continue\n",
    "                \n",
    "                parts = line.split()\n",
    "                \n",
    "                # 验证参数数量是否足够\n",
    "                if len(parts) < 6:  # 至少需要classid + 3组坐标（x_rel,y_rel）\n",
    "                    print(f\"警告：第{line_idx+1}行参数不足（至少需要classid + 3组相对坐标），已跳过\")\n",
    "                    continue\n",
    "                \n",
    "                try:\n",
    "                    classid = int(parts[0])\n",
    "                    rel_coords = []\n",
    "                    \n",
    "                    # 解析相对坐标（每两个元素为一个(x_rel,y_rel)）\n",
    "                    for i in range(1, len(parts), 2):\n",
    "                        if i + 1 >= len(parts):\n",
    "                            print(f\"警告：第{line_idx+1}行坐标点不完整（奇数个参数），已跳过\")\n",
    "                            break\n",
    "                        \n",
    "                        x_rel = float(parts[i])\n",
    "                        y_rel = float(parts[i+1])\n",
    "                        \n",
    "                        # 转换为绝对坐标\n",
    "                        x_abs = round(x_rel * img_width, 6)\n",
    "                        y_abs = round(y_rel * img_height, 6)\n",
    "                        \n",
    "                        # 验证坐标是否在图像范围内\n",
    "                        if not (0 <= x_abs <= img_width and 0 <= y_abs <= img_height):\n",
    "                            print(f\"警告：第{line_idx+1}行坐标超出图像范围（{x_abs}, {y_abs}），已跳过\")\n",
    "                            break\n",
    "                        \n",
    "                        rel_coords.append((x_abs, y_abs))\n",
    "                    \n",
    "                    else:\n",
    "                        # 所有坐标点解析成功\n",
    "                        if len(rel_coords) >= 3:  # 至少需要3个点形成多边形\n",
    "                            annotations.append((classid, rel_coords))\n",
    "                        else:\n",
    "                            print(f\"警告：第{line_idx+1}行坐标点数不足（至少需要3个点），已跳过\")\n",
    "                \n",
    "                except Exception as e:\n",
    "                    print(f\"警告：第{line_idx+1}行解析失败（{str(e)}），已跳过\")\n",
    "    \n",
    "    except Exception as e:\n",
    "        print(f\"错误：标注文件读取失败 - {str(e)}\")\n",
    "        return False\n",
    "    \n",
    "    # 如果没有找到任何有效标注\n",
    "    if not annotations:\n",
    "        print(\"警告：未找到有效标注\")\n",
    "        return False\n",
    "    \n",
    "    # print(f\"共解析到{len(annotations)}个有效目标标注\")\n",
    "    return annotations    "
   ]
  },
  {
   "cell_type": "code",
   "execution_count": 8,
   "id": "abf08a81",
   "metadata": {},
   "outputs": [],
   "source": [
    "def find_matching_path(path_list, target_name):\n",
    "    for path in path_list:\n",
    "        if Path(path).stem == target_name:\n",
    "            return path\n",
    "    print(f\"在txt目录下没有与 {target_name} 对应的txt文件\")\n",
    "    return None"
   ]
  },
  {
   "cell_type": "code",
   "execution_count": 9,
   "id": "e0657d72",
   "metadata": {},
   "outputs": [],
   "source": [
    "def get_point(img_width, STEP):\n",
    "    # 验证参数有效性\n",
    "    if not isinstance(img_width, int) or img_width <= 0:\n",
    "        print(f\"错误：图像宽度必须为正整数（当前值：{img_width}）\")\n",
    "        return False\n",
    "    \n",
    "    if not isinstance(STEP, int) or STEP <= 0:\n",
    "        print(f\"错误：切割步长必须为正整数（当前值：{STEP}）\")\n",
    "        return False\n",
    "    \n",
    "    # print(\"正在计算切割块位置...\")\n",
    "    cut_positions = []\n",
    "    current_start = 0\n",
    "    \n",
    "    try:\n",
    "        while current_start < img_width:\n",
    "            cut_positions.append(current_start)\n",
    "            current_start += STEP\n",
    "        \n",
    "        # 验证结果有效性（至少生成一个切割块）\n",
    "        if not cut_positions:\n",
    "            print(f\"错误：无法生成切割块（图像宽度={img_width}，步长={STEP}）\")\n",
    "            return False\n",
    "        \n",
    "        print(f\"共生成{len(cut_positions)}个切割块，覆盖宽度范围：0~{img_width}px\")\n",
    "        return cut_positions\n",
    "    \n",
    "    except Exception as e:\n",
    "        print(f\"错误：计算切割位置时发生异常 - {str(e)}\")\n",
    "        return False"
   ]
  },
  {
   "cell_type": "code",
   "execution_count": 17,
   "id": "a761a0f9",
   "metadata": {},
   "outputs": [],
   "source": [
    "import cv2\n",
    "import numpy as np\n",
    "\n",
    "def enhance_image(src, sigma_of_gauss=25, fanwei=100):\n",
    "    # 记录原始数据类型，用于最终输出转换\n",
    "    original_dtype = src.dtype\n",
    "    \n",
    "    # 创建并初始化滤波模板:拉普拉斯核3x3\n",
    "    kernel = np.zeros((3, 3), dtype=np.float32)\n",
    "    kernel[1, 1] = 5.0\n",
    "    kernel[0, 1] = -0.9\n",
    "    kernel[1, 0] = -0.9\n",
    "    kernel[1, 2] = -0.9\n",
    "    kernel[2, 1] = -0.9\n",
    "    \n",
    "    # 应用锐化滤波，使用float32避免负值截断问题\n",
    "    src_float = src.astype(np.float32)\n",
    "    src_sharpened = cv2.filter2D(src_float, -1, kernel)\n",
    "    \n",
    "    # 确保所有值非负，防止log(0)\n",
    "    src_non_neg = np.maximum(src_sharpened, 0)\n",
    "    \n",
    "    # 根据输入类型调整缩放比例\n",
    "    if original_dtype == np.uint8:\n",
    "        scale_factor = 255.0  # 8位图像最大值\n",
    "    else:\n",
    "        scale_factor = 65535.0  # 默认按16位处理\n",
    "    \n",
    "    # 转换为浮点型并计算对数，归一化到[1/scale_factor, 1]范围\n",
    "    src_normalized = (src_non_neg + 1) / scale_factor  # +1避免log(0)\n",
    "    src_log = np.log(src_normalized)\n",
    "    \n",
    "    # 计算入射光线强度及其对数\n",
    "    L = cv2.GaussianBlur(src_normalized, (0, 0), sigma_of_gauss)\n",
    "    L_log = np.log(L)\n",
    "    \n",
    "    # 计算反射分量\n",
    "    R = cv2.subtract(src_log, L_log)\n",
    "    \n",
    "    # 处理可能的NaN/inf值\n",
    "    R = np.nan_to_num(R, nan=0.0, posinf=1e6, neginf=-1e6)\n",
    "    \n",
    "    # 计算图像均值与标准差\n",
    "    mean, std = cv2.meanStdDev(R)\n",
    "    min_val = mean[0, 0] - fanwei * std[0, 0]\n",
    "    max_val = mean[0, 0] + fanwei * std[0, 0]\n",
    "    \n",
    "    # 防止分母为0\n",
    "    if max_val <= min_val:\n",
    "        # 如果没有动态范围，返回全0或原始图像\n",
    "        return np.zeros_like(src, dtype=original_dtype)\n",
    "    \n",
    "    # 将图像拉伸映射到[0, scale_factor]\n",
    "    R_scaled = (R - min_val) / (max_val - min_val) * scale_factor\n",
    "    R_clipped = np.clip(R_scaled, 0, scale_factor)\n",
    "    \n",
    "    # 转换回原始数据类型\n",
    "    if original_dtype == np.uint8:\n",
    "        dst = R_clipped.astype(np.uint8)\n",
    "    else:\n",
    "        dst = R_clipped.astype(np.uint16)\n",
    "    \n",
    "    return dst"
   ]
  },
  {
   "cell_type": "code",
   "execution_count": 26,
   "id": "49d7cc68",
   "metadata": {},
   "outputs": [],
   "source": [
    "import cv2\n",
    "import numpy as np\n",
    "\n",
    "def adaptive_enhance(src, sigma_of_gauss=25, fanwei=100):\n",
    "    \"\"\"\n",
    "    自动适配8位/16位输入的图像增强函数（保持原始位深输出）\n",
    "    \n",
    "    参数:\n",
    "        src (np.ndarray): 输入的8位或16位单通道灰度图像（CV_8U/CV_16U）\n",
    "        sigma_of_gauss (int): 高斯模糊标准差，默认25\n",
    "        fanwei (int): 归一化范围系数（均值±fanwei×标准差），默认100\n",
    "    \n",
    "    返回:\n",
    "        np.ndarray: 增强后的图像（与输入同位深，CV_8U/CV_16U）\n",
    "    \"\"\"\n",
    "    # 校验输入是否为单通道灰度图\n",
    "    if src.ndim != 2:\n",
    "        raise ValueError(\"输入图像必须为单通道灰度图\")\n",
    "    \n",
    "    # 自动检测位深（8位或16位）\n",
    "    if src.dtype == np.uint8:\n",
    "        bit_depth = 8\n",
    "        max_val = 255  # 原始数据最大值\n",
    "        norm_denominator = 256.0  # 加1后归一化的分母（0-255 → 1-256 → 1/256~1）\n",
    "    elif src.dtype == np.uint16:\n",
    "        bit_depth = 16\n",
    "        max_val = 65535  # 原始数据最大值\n",
    "        norm_denominator = 65536.0  # 加1后归一化的分母（0-65535 → 1-65536 → 1/65536~1）\n",
    "    else:\n",
    "        raise TypeError(\"仅支持8位（CV_8U）或16位（CV_16U）单通道灰度图像\")\n",
    "\n",
    "    # 步骤1：拉普拉斯滤波（保持浮点运算）\n",
    "    laplacian_kernel = np.array([\n",
    "        [0,   -0.9,  0],\n",
    "        [-0.9, 5.0, -0.9],\n",
    "        [0,   -0.9,  0]\n",
    "    ], dtype=np.float32)\n",
    "    filtered_img = cv2.filter2D(src, cv2.CV_32F, laplacian_kernel)  # 输出为32位浮点\n",
    "\n",
    "    # 步骤2：预处理（加1防止log(0)，并归一化到[0,1]）\n",
    "    img_plus_1 = src.astype(np.float32) + 1  # 8位→1-256，16位→1-65536\n",
    "    img_normalized = img_plus_1 / norm_denominator  # 归一化到[1/256, 1]（8位）或[1/65536, 1]（16位）\n",
    "\n",
    "    # 步骤3：计算对数图像（log(归一化后的值)）\n",
    "    img_log = cv2.log(img_normalized)  # 8位结果范围≈[-5.54, 0]，16位≈[-11.09, 0]\n",
    "\n",
    "    # 步骤4：计算入射光强的高斯模糊和对数\n",
    "    gaussian_blur = cv2.GaussianBlur(img_normalized, (0, 0), sigma_of_gauss)  # 高斯模糊（自动推导核尺寸）\n",
    "    gaussian_log = cv2.log(gaussian_blur)  # 入射光强的对数\n",
    "\n",
    "    # 步骤5：计算反射分量（R = log(原图) - log(高斯模糊图)）\n",
    "    reflection = cv2.subtract(img_log, gaussian_log)  # 反射分量\n",
    "\n",
    "    # 步骤6：计算反射分量的统计量（均值和标准差）\n",
    "    mean_val, std_val = cv2.meanStdDev(reflection)\n",
    "    mean_val = mean_val[0, 0]  # 单通道均值（float）\n",
    "    std_val = std_val[0, 0]    # 单通道标准差（float）\n",
    "\n",
    "    # 步骤7：确定归一化范围（防止除零错误）\n",
    "    min_range = mean_val - fanwei * std_val\n",
    "    max_range = mean_val + fanwei * std_val\n",
    "\n",
    "    # 步骤8：归一化并拉伸到原始位深的动态范围\n",
    "    if max_range <= min_range:\n",
    "        # 极端情况（如全黑/全白），返回全0或全max_val\n",
    "        enhanced_img = np.full_like(src, max_val if fanwei > 0 else 0, dtype=src.dtype)\n",
    "    else:\n",
    "        # 将反射分量从[min_range, max_range]映射到[0, max_val]\n",
    "        normalized = (reflection - min_range) / (max_range - min_range)\n",
    "        normalized = np.clip(normalized, 0, 1)  # 限制在有效范围内（防止浮点误差）\n",
    "        enhanced_img = (normalized * max_val).astype(src.dtype)  # 转换为原始位深\n",
    "\n",
    "    return enhanced_img"
   ]
  },
  {
   "cell_type": "code",
   "execution_count": 28,
   "id": "e76a20cd",
   "metadata": {},
   "outputs": [],
   "source": [
    "def get_enhance_img(cropped_img, is_bit):\n",
    "    \n",
    "    cropped_arrary = np.array(cropped_img)\n",
    "\n",
    "\n",
    "    # dst = enhance_image(cropped_arrary)\n",
    "\n",
    "    # 验证图像实际位数与传入参数是否一致\n",
    "    expected_dtype = np.uint16 if is_bit == 16 else np.uint8\n",
    "    if cropped_arrary.dtype != expected_dtype:\n",
    "        print(f\"警告：图像实际位数（{cropped_arrary.dtype}）与传入的is_bit参数（{is_bit}）不匹配\")\n",
    "\n",
    "    is_16bit = (is_bit == 16)\n",
    "    input_max = 65535 if is_16bit else 255  # 输入图像的最大像素值\n",
    "    output_max = 65535 if is_16bit else 255  # 输出图像的最大像素值\n",
    "    bit_depth = f\"{is_bit}位\"\n",
    "\n",
    "    # 根据图像特性自动设置窗宽窗位\n",
    "    window_width, window_level = get_ww_wc(cropped_arrary)\n",
    "    \n",
    "    # 应用窗宽窗位进行对比度拉伸\n",
    "    window_min = max(0, window_level - window_width // 2)\n",
    "    window_max = min(input_max, window_level + window_width // 2)\n",
    "\n",
    "    # 像素值映射\n",
    "    enhanced_array = np.clip(cropped_arrary, window_min, window_max)\n",
    "    enhanced_array = (enhanced_array - window_min) / (window_max - window_min) * output_max\n",
    "    enhanced_array = enhanced_array.astype(np.uint16 if is_16bit else np.uint8)\n",
    "\n",
    "    dst = enhance_image(enhanced_array)\n",
    "\n",
    "    enhanced_img = Image.fromarray(dst)\n",
    "\n",
    "    return enhanced_img\n"
   ]
  },
  {
   "cell_type": "code",
   "execution_count": 12,
   "id": "a05141ad",
   "metadata": {},
   "outputs": [],
   "source": [
    "img_dir = r\"D:\\object_file\\ultralytics-seg\\input\\img\"\n",
    "txt_dir = r\"D:\\object_file\\ultralytics-seg\\input\\txt\"\n",
    "output_img_dir = r\"D:\\object_file\\ultralytics-seg\\input\\img-img\"\n",
    "output_txt_dir = r\"D:\\object_file\\ultralytics-seg\\input\\txt-txt\""
   ]
  },
  {
   "cell_type": "code",
   "execution_count": 13,
   "id": "8ecbafef",
   "metadata": {},
   "outputs": [],
   "source": [
    "CROP_LENGTH = 640       # 横向切割长度（像素）\n",
    "OVERLAP = 200           # 相邻切割块重叠像素数\n",
    "STEP = CROP_LENGTH - OVERLAP  # 切割步长（像素）"
   ]
  },
  {
   "cell_type": "code",
   "execution_count": 14,
   "id": "5c8f17de",
   "metadata": {},
   "outputs": [
    {
     "name": "stdout",
     "output_type": "stream",
     "text": [
      "['D:\\\\object_file\\\\ultralytics-seg\\\\input\\\\img\\\\A_DJ-RT-20220622-42.tif', 'D:\\\\object_file\\\\ultralytics-seg\\\\input\\\\img\\\\A_DJ-RT-20220623-11.tif', 'D:\\\\object_file\\\\ultralytics-seg\\\\input\\\\img\\\\A_DJ-RT-20220708-35.tif', 'D:\\\\object_file\\\\ultralytics-seg\\\\input\\\\img\\\\A_DJ-RT-20220711-25.tif', 'D:\\\\object_file\\\\ultralytics-seg\\\\input\\\\img\\\\A_DJ-RT-20220725-1.tif']\n"
     ]
    }
   ],
   "source": [
    "import os\n",
    "img_files, txt_files = get_file_name(img_dir, txt_dir)\n",
    "print(img_files)"
   ]
  },
  {
   "cell_type": "code",
   "execution_count": 15,
   "id": "12859b3f",
   "metadata": {},
   "outputs": [],
   "source": [
    "from pathlib import Path\n",
    "from tqdm import tqdm \n",
    "from PIL import Image \n",
    "import numpy as np"
   ]
  },
  {
   "cell_type": "code",
   "execution_count": 31,
   "id": "4f326e1d",
   "metadata": {},
   "outputs": [
    {
     "name": "stdout",
     "output_type": "stream",
     "text": [
      "原始图像尺寸：宽度=7833px，高度=725px\n",
      "共生成18个切割块，覆盖宽度范围：0~7833px\n"
     ]
    },
    {
     "name": "stderr",
     "output_type": "stream",
     "text": [
      "  0%|          | 0/18 [00:00<?, ?it/s]"
     ]
    },
    {
     "name": "stderr",
     "output_type": "stream",
     "text": [
      " 11%|█         | 2/18 [00:00<00:01, 13.64it/s]"
     ]
    },
    {
     "name": "stdout",
     "output_type": "stream",
     "text": [
      "window_width: 12593\n",
      "window_width: 12336\n",
      "window_width: 14392\n"
     ]
    },
    {
     "name": "stderr",
     "output_type": "stream",
     "text": [
      " 33%|███▎      | 6/18 [00:00<00:00, 14.73it/s]"
     ]
    },
    {
     "name": "stdout",
     "output_type": "stream",
     "text": [
      "window_width: 14135\n",
      "window_width: 14135\n",
      "window_width: 15163\n"
     ]
    },
    {
     "name": "stderr",
     "output_type": "stream",
     "text": [
      " 44%|████▍     | 8/18 [00:00<00:00, 15.55it/s]"
     ]
    },
    {
     "name": "stdout",
     "output_type": "stream",
     "text": [
      "window_width: 15163\n",
      "window_width: 13364\n",
      "window_width: 11565\n",
      "window_width: 11822\n"
     ]
    },
    {
     "name": "stderr",
     "output_type": "stream",
     "text": [
      " 67%|██████▋   | 12/18 [00:00<00:00, 16.67it/s]"
     ]
    },
    {
     "name": "stdout",
     "output_type": "stream",
     "text": [
      "window_width: 12336\n",
      "window_width: 10794\n",
      "window_width: 10280\n",
      "window_width: 8481\n"
     ]
    },
    {
     "name": "stderr",
     "output_type": "stream",
     "text": [
      " 89%|████████▉ | 16/18 [00:00<00:00, 16.98it/s]"
     ]
    },
    {
     "name": "stdout",
     "output_type": "stream",
     "text": [
      "window_width: 10280\n",
      "window_width: 13107\n",
      "window_width: 13107\n",
      "window_width: 11565\n"
     ]
    },
    {
     "name": "stderr",
     "output_type": "stream",
     "text": [
      "100%|██████████| 18/18 [00:01<00:00, 16.64it/s]\n"
     ]
    },
    {
     "name": "stdout",
     "output_type": "stream",
     "text": [
      "原始图像尺寸：宽度=7452px，高度=584px\n",
      "共生成17个切割块，覆盖宽度范围：0~7452px\n"
     ]
    },
    {
     "name": "stderr",
     "output_type": "stream",
     "text": [
      " 12%|█▏        | 2/17 [00:00<00:00, 19.87it/s]"
     ]
    },
    {
     "name": "stdout",
     "output_type": "stream",
     "text": [
      "window_width: 23387\n",
      "window_width: 10537\n",
      "window_width: 11308\n",
      "window_width: 10794\n"
     ]
    },
    {
     "name": "stderr",
     "output_type": "stream",
     "text": [
      " 35%|███▌      | 6/17 [00:00<00:00, 18.95it/s]"
     ]
    },
    {
     "name": "stdout",
     "output_type": "stream",
     "text": [
      "window_width: 9252\n",
      "window_width: 10794\n",
      "window_width: 12336\n",
      "window_width: 12079\n",
      "window_width: 12593\n"
     ]
    },
    {
     "name": "stderr",
     "output_type": "stream",
     "text": [
      " 71%|███████   | 12/17 [00:00<00:00, 18.87it/s]"
     ]
    },
    {
     "name": "stdout",
     "output_type": "stream",
     "text": [
      "window_width: 12593\n",
      "window_width: 12593\n",
      "window_width: 11051\n",
      "window_width: 10537\n"
     ]
    },
    {
     "name": "stderr",
     "output_type": "stream",
     "text": [
      "100%|██████████| 17/17 [00:00<00:00, 19.38it/s]"
     ]
    },
    {
     "name": "stdout",
     "output_type": "stream",
     "text": [
      "window_width: 11051\n",
      "window_width: 9252\n",
      "window_width: 10794\n",
      "window_width: 10794\n"
     ]
    },
    {
     "name": "stderr",
     "output_type": "stream",
     "text": [
      "\n"
     ]
    },
    {
     "name": "stdout",
     "output_type": "stream",
     "text": [
      "原始图像尺寸：宽度=7869px，高度=578px\n",
      "共生成18个切割块，覆盖宽度范围：0~7869px\n"
     ]
    },
    {
     "name": "stderr",
     "output_type": "stream",
     "text": [
      " 11%|█         | 2/18 [00:00<00:00, 19.90it/s]"
     ]
    },
    {
     "name": "stdout",
     "output_type": "stream",
     "text": [
      "window_width: 12086\n",
      "window_width: 12082\n",
      "window_width: 9438\n",
      "window_width: 13248\n",
      "window_width: 10451\n"
     ]
    },
    {
     "name": "stderr",
     "output_type": "stream",
     "text": [
      " 44%|████▍     | 8/18 [00:00<00:00, 21.00it/s]"
     ]
    },
    {
     "name": "stdout",
     "output_type": "stream",
     "text": [
      "window_width: 11590\n",
      "window_width: 11659\n",
      "window_width: 10210\n",
      "window_width: 8090\n",
      "window_width: 12138\n"
     ]
    },
    {
     "name": "stderr",
     "output_type": "stream",
     "text": [
      " 78%|███████▊  | 14/18 [00:00<00:00, 21.13it/s]"
     ]
    },
    {
     "name": "stdout",
     "output_type": "stream",
     "text": [
      "window_width: 14418\n",
      "window_width: 14738\n",
      "window_width: 16241\n",
      "window_width: 17935\n",
      "window_width: 16547\n"
     ]
    },
    {
     "name": "stderr",
     "output_type": "stream",
     "text": [
      "100%|██████████| 18/18 [00:00<00:00, 21.06it/s]\n"
     ]
    },
    {
     "name": "stdout",
     "output_type": "stream",
     "text": [
      "window_width: 14934\n",
      "window_width: 14822\n",
      "window_width: 14587\n",
      "原始图像尺寸：宽度=7864px，高度=731px\n",
      "共生成18个切割块，覆盖宽度范围：0~7864px\n"
     ]
    },
    {
     "name": "stderr",
     "output_type": "stream",
     "text": [
      "  0%|          | 0/18 [00:00<?, ?it/s]"
     ]
    },
    {
     "name": "stdout",
     "output_type": "stream",
     "text": [
      "window_width: 10450\n",
      "window_width: 10016\n"
     ]
    },
    {
     "name": "stderr",
     "output_type": "stream",
     "text": [
      " 11%|█         | 2/18 [00:00<00:00, 16.57it/s]"
     ]
    },
    {
     "name": "stdout",
     "output_type": "stream",
     "text": [
      "window_width: 8894\n",
      "window_width: 8785\n"
     ]
    },
    {
     "name": "stderr",
     "output_type": "stream",
     "text": [
      " 22%|██▏       | 4/18 [00:00<00:00, 16.82it/s]"
     ]
    },
    {
     "name": "stdout",
     "output_type": "stream",
     "text": [
      "window_width: 10876\n",
      "window_width: 10385\n"
     ]
    },
    {
     "name": "stderr",
     "output_type": "stream",
     "text": [
      " 33%|███▎      | 6/18 [00:00<00:00, 16.72it/s]"
     ]
    },
    {
     "name": "stdout",
     "output_type": "stream",
     "text": [
      "window_width: 8483\n",
      "window_width: 8031\n"
     ]
    },
    {
     "name": "stderr",
     "output_type": "stream",
     "text": [
      " 44%|████▍     | 8/18 [00:00<00:00, 15.33it/s]"
     ]
    },
    {
     "name": "stdout",
     "output_type": "stream",
     "text": [
      "window_width: 8865\n"
     ]
    },
    {
     "name": "stderr",
     "output_type": "stream",
     "text": [
      " 56%|█████▌    | 10/18 [00:00<00:00, 15.50it/s]"
     ]
    },
    {
     "name": "stdout",
     "output_type": "stream",
     "text": [
      "window_width: 9286\n",
      "window_width: 9558\n",
      "window_width: 11072\n"
     ]
    },
    {
     "name": "stderr",
     "output_type": "stream",
     "text": [
      " 67%|██████▋   | 12/18 [00:00<00:00, 15.91it/s]"
     ]
    },
    {
     "name": "stdout",
     "output_type": "stream",
     "text": [
      "window_width: 11360\n"
     ]
    },
    {
     "name": "stderr",
     "output_type": "stream",
     "text": [
      " 78%|███████▊  | 14/18 [00:00<00:00, 16.10it/s]"
     ]
    },
    {
     "name": "stdout",
     "output_type": "stream",
     "text": [
      "window_width: 9773\n",
      "window_width: 8175\n",
      "window_width: 6769\n"
     ]
    },
    {
     "name": "stderr",
     "output_type": "stream",
     "text": [
      " 89%|████████▉ | 16/18 [00:00<00:00, 16.57it/s]"
     ]
    },
    {
     "name": "stdout",
     "output_type": "stream",
     "text": [
      "window_width: 5371\n"
     ]
    },
    {
     "name": "stderr",
     "output_type": "stream",
     "text": [
      "100%|██████████| 18/18 [00:01<00:00, 16.53it/s]\n"
     ]
    },
    {
     "name": "stdout",
     "output_type": "stream",
     "text": [
      "window_width: 4932\n",
      "原始图像尺寸：宽度=7876px，高度=606px\n",
      "共生成18个切割块，覆盖宽度范围：0~7876px\n"
     ]
    },
    {
     "name": "stderr",
     "output_type": "stream",
     "text": [
      "  0%|          | 0/18 [00:00<?, ?it/s]"
     ]
    },
    {
     "name": "stdout",
     "output_type": "stream",
     "text": [
      "window_width: 13364\n",
      "window_width: 13107\n",
      "window_width: 13364\n"
     ]
    },
    {
     "name": "stderr",
     "output_type": "stream",
     "text": [
      " 17%|█▋        | 3/18 [00:00<00:00, 21.00it/s]"
     ]
    },
    {
     "name": "stdout",
     "output_type": "stream",
     "text": [
      "window_width: 10794\n",
      "window_width: 11822\n"
     ]
    },
    {
     "name": "stderr",
     "output_type": "stream",
     "text": [
      " 33%|███▎      | 6/18 [00:00<00:00, 19.26it/s]"
     ]
    },
    {
     "name": "stdout",
     "output_type": "stream",
     "text": [
      "window_width: 12593\n",
      "window_width: 11308\n"
     ]
    },
    {
     "name": "stderr",
     "output_type": "stream",
     "text": [
      " 44%|████▍     | 8/18 [00:00<00:00, 19.07it/s]"
     ]
    },
    {
     "name": "stdout",
     "output_type": "stream",
     "text": [
      "window_width: 10794\n",
      "window_width: 9766\n",
      "window_width: 8738\n"
     ]
    },
    {
     "name": "stderr",
     "output_type": "stream",
     "text": [
      " 56%|█████▌    | 10/18 [00:00<00:00, 18.93it/s]"
     ]
    },
    {
     "name": "stdout",
     "output_type": "stream",
     "text": [
      "window_width: 8738\n"
     ]
    },
    {
     "name": "stderr",
     "output_type": "stream",
     "text": [
      " 67%|██████▋   | 12/18 [00:00<00:00, 18.88it/s]"
     ]
    },
    {
     "name": "stdout",
     "output_type": "stream",
     "text": [
      "window_width: 9252\n",
      "window_width: 8995\n",
      "window_width: 11051\n"
     ]
    },
    {
     "name": "stderr",
     "output_type": "stream",
     "text": [
      " 78%|███████▊  | 14/18 [00:00<00:00, 18.86it/s]"
     ]
    },
    {
     "name": "stdout",
     "output_type": "stream",
     "text": [
      "window_width: 10537\n"
     ]
    },
    {
     "name": "stderr",
     "output_type": "stream",
     "text": [
      "100%|██████████| 18/18 [00:00<00:00, 19.42it/s]"
     ]
    },
    {
     "name": "stdout",
     "output_type": "stream",
     "text": [
      "window_width: 7967\n",
      "window_width: 8481\n",
      "window_width: 9509\n"
     ]
    },
    {
     "name": "stderr",
     "output_type": "stream",
     "text": [
      "\n"
     ]
    }
   ],
   "source": [
    "for img_path in img_files:\n",
    "    tif_name = Path(img_path).stem\n",
    "    # print(f\"正在读取原始 {tif_name} 图像...\")\n",
    "    try:\n",
    "        img = Image.open(img_path)\n",
    "        # if img.mode != \"L\":  # 确保为单通道灰度模式\n",
    "        #     img = img.convert(\"L\")\n",
    "        img_width, img_height = img.size\n",
    "        print(f\"原始图像尺寸：宽度={img_width}px，高度={img_height}px\")\n",
    "    except Exception as e:\n",
    "        raise RuntimeError(f\"图像读取失败：{str(e)}\")\n",
    "    \n",
    "    # 获取原始TIFF的关键信息\n",
    "    tiff_info = get_tiff_info(img)\n",
    "\n",
    "    is_bit = tiff_info[\"bit_depth\"]\n",
    "    # print(\"is_bit:\", is_bit)\n",
    "\n",
    "    # 保存时匹配原始参数（位深+压缩方式）\n",
    "    saved_params = {\n",
    "        \"format\": \"TIFF\",\n",
    "        \"bits\": tiff_info[\"bit_depth\"],          # 动态设置位深（8或16）\n",
    "        \"compression\": tiff_info[\"compression\"]  # 动态设置压缩方式\n",
    "    }\n",
    "\n",
    "    txt_name = find_matching_path(txt_files, tif_name)\n",
    "    if txt_name is None:\n",
    "        continue\n",
    "\n",
    "    annotations = get_abs_coords(txt_name, img_width, img_height)\n",
    "    if not annotations:\n",
    "        continue\n",
    "\n",
    "    cut_positions = get_point(img_width, STEP)\n",
    "    if not cut_positions:\n",
    "        continue\n",
    "\n",
    "    for block_idx, start_x in enumerate(tqdm(cut_positions)):\n",
    "\n",
    "        # 当前切割块的绝对坐标范围（x: start_x → end_x，y: 0 → img_height）\n",
    "        end_x = start_x + CROP_LENGTH\n",
    "        end_x = min(end_x, img_width)  # 限制右边界\n",
    "        block_width = end_x - start_x\n",
    "\n",
    "        # 提取子图像（绝对位置裁剪）\n",
    "        sub_img = img.crop((start_x, 0, end_x, img_height))\n",
    "        cropped_img = sub_img.convert(tiff_info[\"mode\"])  # 关键：保留原始模式\n",
    "\n",
    "        enhanced_img = get_enhance_img(cropped_img, is_bit)\n",
    "        save_img_path = os.path.join(output_img_dir, f\"{tif_name}_block_{block_idx}.tif\")\n",
    "        enhanced_img.save(save_img_path, **saved_params)\n",
    "\n",
    "        # 处理当前块的标注（绝对坐标判断）\n",
    "        block_anns = []\n",
    "\n",
    "        # 按行进行遍历，格式为 (classid, [(x1, y1), (x2, y2), (x3, y3), (x4, y4), (),,,])\n",
    "        for ann in annotations:\n",
    "            classid, abs_coords = ann\n",
    "            if not abs_coords:  # 跳过无坐标点的无效目标\n",
    "                continue\n",
    "            \n",
    "            # 定位目标的最小外接矩形，x_min y_min x_max y_max  \n",
    "            orig_min_x, orig_min_y, orig_max_x, orig_max_y, orig_area = polygon_area(abs_coords)\n",
    "            if orig_area == 0:\n",
    "                continue  # 面积为0的目标无意义\n",
    "            \n",
    "            # 当前切割区域的最大内接矩形， x_min y_min x_max y_max  \n",
    "            block_min_x, block_min_y = start_x, 0\n",
    "            block_max_x, block_max_y = end_x, img_height\n",
    "\n",
    "            # 元组转换为列表（list），进行遍历\n",
    "            abs_coords_copy = [list(point) for point in abs_coords]\n",
    "            abs_coords_copy.append(abs_coords_copy[0])\n",
    "\n",
    "            # 复制一个列表记录改变的数据\n",
    "            abs_coords_copy2 = [point.copy() for point in abs_coords_copy]\n",
    "            \n",
    "            # 没有交集\n",
    "            if orig_max_x <= block_min_x or orig_min_x >= block_max_x:\n",
    "                continue\n",
    "\n",
    "            # 有交集 \n",
    "            for i in range(len(abs_coords_copy)):\n",
    "                current_point = abs_coords_copy[i]\n",
    "\n",
    "                if i < len(abs_coords_copy) - 1:\n",
    "                    next_point = abs_coords_copy[i+1]\n",
    "\n",
    "                    if block_min_x <= current_point[0] <= block_max_x and block_min_x <= next_point[0] <= block_max_x:\n",
    "                        continue\n",
    "                    if current_point[0] >= block_max_x and block_min_x <= next_point[0] <= block_max_x:\n",
    "                        y3 = calculate_y31(current_point, next_point, block_max_x)\n",
    "                        abs_coords_copy2[i][0] = block_max_x\n",
    "                        abs_coords_copy2[i][1] = y3\n",
    "                    if next_point[0] >= block_max_x and block_min_x <= current_point[0] <= block_max_x:\n",
    "                        y3 = calculate_y31(current_point, next_point, block_max_x)\n",
    "                        abs_coords_copy2[i+1][0] = block_max_x\n",
    "                        abs_coords_copy2[i+1][1] = y3\n",
    "                    if block_min_x <= current_point[0] <= block_max_x and next_point[0] <= block_min_x:\n",
    "                        y3 = calculate_y31(current_point, next_point, block_min_x)\n",
    "                        abs_coords_copy2[i+1][0] = block_min_x\n",
    "                        abs_coords_copy2[i+1][1] = y3\n",
    "                    if block_min_x <= next_point[0] <= block_max_x and current_point[0] <= block_min_x:\n",
    "                        y3 = calculate_y31(current_point, next_point, block_min_x)\n",
    "                        abs_coords_copy2[i][0] = block_min_x\n",
    "                        abs_coords_copy2[i][1] = y3 \n",
    "                    if current_point[0] >= block_max_x and next_point[0] <= block_min_x:\n",
    "                        y31 = calculate_y31(current_point, next_point, block_min_x)\n",
    "                        y32 = calculate_y31(current_point, next_point, block_max_x)\n",
    "                        abs_coords_copy2[i+1][0] = block_min_x\n",
    "                        abs_coords_copy2[i+1][1] = y31\n",
    "                        abs_coords_copy2[i][0] = block_max_x\n",
    "                        abs_coords_copy2[i][1] = y32\n",
    "                    if  next_point[0] >= block_max_x and current_point[0] <= block_min_x:\n",
    "                        y31 = calculate_y31(current_point, next_point, block_min_x)\n",
    "                        y32 = calculate_y31(current_point, next_point, block_max_x)\n",
    "                        abs_coords_copy2[i+1][0] = block_max_x\n",
    "                        abs_coords_copy2[i+1][1] = y32\n",
    "                        abs_coords_copy2[i][0] = block_min_x\n",
    "                        abs_coords_copy2[i][1] = y31\n",
    "\n",
    "\n",
    "            # 根据x坐标筛选当前切割区域内的点\n",
    "            abs_coords_copy3 = [point for point in abs_coords_copy2 if block_min_x <= point[0] <= block_max_x]\n",
    "\n",
    "            if len(abs_coords_copy3) == 0:\n",
    "                continue\n",
    "            else:\n",
    "                # 将坐标转换为相对坐标\n",
    "                for j in abs_coords_copy3:\n",
    "                    if j[0] == block_min_x:\n",
    "                        j[0] = 0\n",
    "                    else:\n",
    "                        j[0] = j[0] - block_min_x\n",
    "                    j[0] = j[0] / (block_max_x - block_min_x)\n",
    "                    j[1] = j[1] / (block_max_y - block_min_y)\n",
    "                    \n",
    "                txt_data = [classid] + [item for sublist in abs_coords_copy3 for item in sublist]\n",
    "\n",
    "                block_anns.append(txt_data)\n",
    "\n",
    "        # 保存当前块的标注文件（相对坐标格式：classid x1_rel y1_rel x2_rel y2_rel ...）\n",
    "        if block_anns:\n",
    "            txt_path = os.path.join(output_txt_dir, f\"{tif_name}_block_{block_idx}.txt\")\n",
    "            with open(txt_path, \"w\") as f:\n",
    "                for ann in block_anns:\n",
    "                    data_str = ' '.join(map(str, ann)) + '\\n'\n",
    "                    f.write(data_str)\n",
    "        else:\n",
    "            print(f\"提示：块{block_idx}无有效目标（保留区域>10%），未生成标注文件\")\n"
   ]
  },
  {
   "cell_type": "code",
   "execution_count": null,
   "id": "bf676101",
   "metadata": {},
   "outputs": [],
   "source": []
  },
  {
   "cell_type": "code",
   "execution_count": null,
   "id": "d665e21c",
   "metadata": {},
   "outputs": [],
   "source": []
  },
  {
   "cell_type": "code",
   "execution_count": null,
   "id": "18f85d08",
   "metadata": {},
   "outputs": [],
   "source": []
  },
  {
   "cell_type": "code",
   "execution_count": null,
   "id": "d0d60c21",
   "metadata": {},
   "outputs": [],
   "source": []
  },
  {
   "cell_type": "code",
   "execution_count": null,
   "id": "b70ff071",
   "metadata": {},
   "outputs": [],
   "source": []
  }
 ],
 "metadata": {
  "kernelspec": {
   "display_name": "py310",
   "language": "python",
   "name": "python3"
  },
  "language_info": {
   "codemirror_mode": {
    "name": "ipython",
    "version": 3
   },
   "file_extension": ".py",
   "mimetype": "text/x-python",
   "name": "python",
   "nbconvert_exporter": "python",
   "pygments_lexer": "ipython3",
   "version": "3.10.18"
  }
 },
 "nbformat": 4,
 "nbformat_minor": 5
}
